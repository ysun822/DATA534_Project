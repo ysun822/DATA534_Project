{
 "cells": [
  {
   "cell_type": "code",
   "execution_count": 3,
   "id": "ada6592c-6548-4e1e-8470-31cc28068c65",
   "metadata": {},
   "outputs": [],
   "source": [
    "library(jsonlite)\n",
    "library(tidyr)\n",
    "library(ggplot2)"
   ]
  },
  {
   "cell_type": "code",
   "execution_count": 13,
   "id": "74ad0e94-be30-46c3-8b44-6806cdb061af",
   "metadata": {},
   "outputs": [],
   "source": [
    "currency_code_vector<-c('USD','JPY','BGN','CZK','DKK','GBP','HUF','PLN','RON','SEK','CHF','ISK','NOK','HRK','RUB','TRY','AUD','BRL','CAD','CNY','HKD','IDR','ILS',\n",
    "                        'INR','KRW','MXN','MYR','NZD','PHP','SGD','THB','ZAR','EUR','AED','AFN','ALL','ARS','BAM','BBD','BDT','BHD','BIF','BMD','BND','BOB','BSD',\n",
    "                        'BWP','BZD','CLP','COP','CRC','CUP','CVE','DJF','DOP','DZD','EGP','ETB','FJD','GHS','GNF','GTQ','HNL','HTG','IQD','JMD','JOD','KES','KHR',\n",
    "                        'KWD','KYD','KZT','LAK','LBP','LKR','LSL','LYD','MAD','MDL','MGA','MKD','MMK','MOP','MUR','MVR','MWK','NAD','NGN','NIO','NPR','OMR','PAB',\n",
    "                        'PEN','PGK','PKR','PYG','QAR','RSD','RWF','SAR','SCR','SDG','SOS','SVC','SZL','TND','TTD','TWD','TZS','UAH','UGX','UYU','UZS','VND','XAF',\n",
    "                        'XOF','XPF','ZMW')\n",
    "\n",
    "\n",
    "convert_currency <- function(from, to) {\n",
    "    \n",
    "    if (from %in% currency_code_vector == FALSE) {\n",
    "        warning(\"Invalid FROM currency name!\")\n",
    "        return (\"Error\")\n",
    "        }\n",
    "\n",
    "    if (to %in% currency_code_vector == FALSE) {\n",
    "        warning(\"Invalid IN currency name!\")\n",
    "        return (\"Error\")\n",
    "        }    \n",
    "    \n",
    "    url<-paste('https://api.exchangerate.host/convert?from=', from, '&to=', to, sep=\"\")\n",
    "    data <- fromJSON(url)\n",
    "\n",
    "    if(data$success!=TRUE){\n",
    "        warning(\"Error in connecting to the API!\")\n",
    "        return (\"Error\")\n",
    "    }\n",
    "\n",
    "    rate <- data$result\n",
    "    date <- data$date\n",
    "    output <- paste(from, \" to \", to, \" rate: \", rate, \"     Date: \", date)\n",
    "    \n",
    "    return (output)\n",
    "}"
   ]
  },
  {
   "cell_type": "code",
   "execution_count": 15,
   "id": "079d6d02-ec48-4623-97ca-9e0e5941c79d",
   "metadata": {},
   "outputs": [
    {
     "data": {
      "text/html": [
       "<span style=white-space:pre-wrap>'USD  to  CAD  rate:  1.273353      Date:  2022-02-14'</span>"
      ],
      "text/latex": [
       "'USD  to  CAD  rate:  1.273353      Date:  2022-02-14'"
      ],
      "text/markdown": [
       "<span style=white-space:pre-wrap>'USD  to  CAD  rate:  1.273353      Date:  2022-02-14'</span>"
      ],
      "text/plain": [
       "[1] \"USD  to  CAD  rate:  1.273353      Date:  2022-02-14\""
      ]
     },
     "metadata": {},
     "output_type": "display_data"
    }
   ],
   "source": [
    "convert_currency(\"USD\", \"CAD\")"
   ]
  }
 ],
 "metadata": {
  "kernelspec": {
   "display_name": "R",
   "language": "R",
   "name": "ir"
  },
  "language_info": {
   "codemirror_mode": "r",
   "file_extension": ".r",
   "mimetype": "text/x-r-source",
   "name": "R",
   "pygments_lexer": "r",
   "version": "4.1.2"
  }
 },
 "nbformat": 4,
 "nbformat_minor": 5
}
