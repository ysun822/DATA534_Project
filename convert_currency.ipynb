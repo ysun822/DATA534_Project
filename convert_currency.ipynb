{
 "cells": [
  {
   "cell_type": "code",
   "execution_count": 16,
   "id": "ada6592c-6548-4e1e-8470-31cc28068c65",
   "metadata": {},
   "outputs": [
    {
     "name": "stderr",
     "output_type": "stream",
     "text": [
      "\n",
      "Attaching package: 'testthat'\n",
      "\n",
      "\n",
      "The following object is masked from 'package:tidyr':\n",
      "\n",
      "    matches\n",
      "\n",
      "\n"
     ]
    }
   ],
   "source": [
    "library(jsonlite)\n",
    "library(tidyr)\n",
    "library(ggplot2)\n",
    "library(testthat)"
   ]
  },
  {
   "cell_type": "code",
   "execution_count": 23,
   "id": "74ad0e94-be30-46c3-8b44-6806cdb061af",
   "metadata": {},
   "outputs": [],
   "source": [
    "currency_code_vector<-c('AED', 'AFN', 'ALL', 'AMD', 'ANG', 'AOA', 'ARS', 'AUD', 'AWG', 'AZN',\n",
    "                        'BAM', 'BBD', 'BDT', 'BGN', 'BHD', 'BIF', 'BMD', 'BND', 'BOB', 'BRL', 'BSD', 'BTC', 'BTN', 'BWP', 'BYN', 'BZD',\n",
    "                        'CAD', 'CDF', 'CHF', 'CLF', 'CLP', 'CNH', 'CNY', 'COP','CRC', 'CUC', 'CUP','CVE','CZK',\n",
    "                        'DJF', 'DKK', 'DOP', 'DZD',\n",
    "                        'EGP', 'ERN', 'ETB', 'EUR',\n",
    "                        'FJD', 'FKP',\n",
    "                        'GBP', 'GEL', 'GGP', 'GHS', 'GIP', 'GMD', 'GNF', 'GTQ', 'GYD',\n",
    "                        'HKD', 'HNL', 'HRK', 'HTG', 'HUF', \n",
    "                        'IDR', 'ILS', 'IMP', 'INR', 'IQD', 'IRR', 'ISK',\n",
    "                        'JEP', 'JMD', 'JOD', 'JPY',\n",
    "                        'KES', 'KGS', 'KHR', 'KMF', 'KPW', 'KRW', 'KWD', 'KYD', 'KZT',\n",
    "                        'LAK', 'LBP', 'LKR', 'LRD', 'LSL', 'LYD',\n",
    "                        'MAD', 'MDL', 'MGA', 'MKD', 'MMK', 'MNT', 'MOP', 'MRU', 'MUR', 'MVR', 'MWK', 'MXN', 'MYR', 'MZN',\n",
    "                        'NAD', 'NGN', 'NIO', 'NOK', 'NPR', 'NZD', \n",
    "                        'OMR',\n",
    "                        'PAB', 'PEN', 'PGK', 'PHP', 'PKR', 'PLN', 'PYG',\n",
    "                        'QAR',\n",
    "                        'RON', 'RSD', 'RUB', 'RWF',\n",
    "                        'SAR', 'SBD', 'SCR', 'SDG', 'SEK', 'SGD', 'SHP', 'SLL', 'SOS', 'SRD', 'SSP', 'STD', 'STN', 'SVC', 'SYP', 'SZL',\n",
    "                        'THB', 'TJS', 'TMT', 'TND', 'TOP', 'TRY', 'TTD', 'TWD', 'TZS',\n",
    "                        'UAH', 'UGX', 'USD', 'UYU', 'UZS', \n",
    "                        'VES', 'VND', 'VUV', \n",
    "                        'WST', \n",
    "                        'XAF', 'XAG', 'XAU', 'XCD', 'XDR', 'XOF', 'XPD', 'XPF', 'XPT',\n",
    "                        'YER',\n",
    "                        'ZAR', 'ZMW', 'ZWL')\n",
    "\n",
    "\n",
    "convert_currency <- function(from, to) {\n",
    "    \n",
    "    if (from %in% currency_code_vector == FALSE) {\n",
    "        warning(\"Invalid FROM currency name!\")\n",
    "        return (\"Error\")\n",
    "        }\n",
    "\n",
    "    if (to %in% currency_code_vector == FALSE) {\n",
    "        warning(\"Invalid IN currency name!\")\n",
    "        return (\"Error\")\n",
    "        }    \n",
    "    \n",
    "    url<-paste('https://api.exchangerate.host/convert?from=', from, '&to=', to, sep=\"\")\n",
    "    data <- fromJSON(url)\n",
    "\n",
    "    if(data$success!=TRUE){\n",
    "        warning(\"Error in connecting to the API!\")\n",
    "        return (\"Error\")\n",
    "    }\n",
    "\n",
    "    rate <- data$result\n",
    "    date <- data$date\n",
    "    output <- c(rate, date)\n",
    "    \n",
    "    return (output)\n",
    "}"
   ]
  },
  {
   "cell_type": "code",
   "execution_count": 34,
   "id": "079d6d02-ec48-4623-97ca-9e0e5941c79d",
   "metadata": {},
   "outputs": [
    {
     "data": {
      "text/html": [
       "<style>\n",
       ".list-inline {list-style: none; margin:0; padding: 0}\n",
       ".list-inline>li {display: inline-block}\n",
       ".list-inline>li:not(:last-child)::after {content: \"\\00b7\"; padding: 0 .5ex}\n",
       "</style>\n",
       "<ol class=list-inline><li>'1.272095'</li><li>'2022-02-16'</li></ol>\n"
      ],
      "text/latex": [
       "\\begin{enumerate*}\n",
       "\\item '1.272095'\n",
       "\\item '2022-02-16'\n",
       "\\end{enumerate*}\n"
      ],
      "text/markdown": [
       "1. '1.272095'\n",
       "2. '2022-02-16'\n",
       "\n",
       "\n"
      ],
      "text/plain": [
       "[1] \"1.272095\"   \"2022-02-16\""
      ]
     },
     "metadata": {},
     "output_type": "display_data"
    }
   ],
   "source": [
    "convert_currency(\"USD\", \"CAD\")"
   ]
  },
  {
   "cell_type": "markdown",
   "id": "d7f9035d-6945-4f7b-bb8f-4b9cb60469da",
   "metadata": {
    "tags": []
   },
   "source": [
    "#### Testing:"
   ]
  },
  {
   "cell_type": "code",
   "execution_count": 28,
   "id": "007d798a-24dc-491c-89d5-a39014a03073",
   "metadata": {},
   "outputs": [
    {
     "name": "stdout",
     "output_type": "stream",
     "text": [
      "\u001b[32mTest passed\u001b[39m \n"
     ]
    }
   ],
   "source": [
    "test_that(\"convert_currency works\", {\n",
    "  expect_equal(typeof(convert_currency(\"USD\", \"CAD\")),'character')\n",
    "  expect_equal(length(convert_currency(\"USD\", \"CAD\")),2)\n",
    "})"
   ]
  },
  {
   "cell_type": "code",
   "execution_count": 32,
   "id": "7e2b8662-dd35-4ecd-8b9f-c6f92e80f1e6",
   "metadata": {},
   "outputs": [
    {
     "name": "stdout",
     "output_type": "stream",
     "text": [
      "\u001b[32mTest passed\u001b[39m \n"
     ]
    }
   ],
   "source": [
    "test_that(\"convert_currency throws errors and gets warnings\", {\n",
    "  expect_warning(convert_currency(\"USD\",\"ACD\"))\n",
    "})"
   ]
  }
 ],
 "metadata": {
  "kernelspec": {
   "display_name": "R",
   "language": "R",
   "name": "ir"
  },
  "language_info": {
   "codemirror_mode": "r",
   "file_extension": ".r",
   "mimetype": "text/x-r-source",
   "name": "R",
   "pygments_lexer": "r",
   "version": "4.1.2"
  }
 },
 "nbformat": 4,
 "nbformat_minor": 5
}
